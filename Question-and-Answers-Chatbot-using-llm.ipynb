{
 "cells": [
  {
   "cell_type": "markdown",
   "metadata": {},
   "source": [
    "# Question and Answers Chatbot using LLM"
   ]
  },
  {
   "cell_type": "code",
   "execution_count": 5,
   "metadata": {},
   "outputs": [],
   "source": [
    "import os\n",
    "from dotenv import load_dotenv\n",
    "\n",
    "# Checking if the .env is loaded or not - Returns True\n",
    "load_dotenv()\n",
    "\n",
    "# Seeting the Environment Variables\n",
    "os.environ['OPENAI_API_KEY'] = os.getenv('openai_api_key')\n",
    "os.environ['HUGGINGFACEHUB_API_TOKEN'] = os.getenv('higgingfacehub_api_token')"
   ]
  },
  {
   "cell_type": "code",
   "execution_count": 6,
   "metadata": {},
   "outputs": [
    {
     "name": "stdout",
     "output_type": "stream",
     "text": [
      "\n",
      "\n",
      "The capital of India is New Delhi.\n"
     ]
    }
   ],
   "source": [
    "from langchain_openai import OpenAI\n",
    "\n",
    "llm = OpenAI(temperature=0.6)\n",
    "\n",
    "question = 'What is the Cpaital of Pakistan?'\n",
    "\n",
    "answer = llm.predict(question)\n",
    "\n",
    "print(answer)"
   ]
  },
  {
   "cell_type": "code",
   "execution_count": 9,
   "metadata": {},
   "outputs": [],
   "source": [
    "from langchain import HuggingFaceHub\n",
    "import tqdm as notebook_tqdm\n",
    "\n",
    "llm_huggingface_hub = HuggingFaceHub(repo_id='google/flan-t5-large', \n",
    "                                     model_kwargs = {'temperature': 0, 'max_length': 64})"
   ]
  },
  {
   "cell_type": "code",
   "execution_count": 10,
   "metadata": {},
   "outputs": [
    {
     "name": "stdout",
     "output_type": "stream",
     "text": [
      "moscow\n"
     ]
    }
   ],
   "source": [
    "answer = llm_huggingface_hub.predict('What is the Capital of Russia')\n",
    "\n",
    "print(answer)"
   ]
  },
  {
   "cell_type": "code",
   "execution_count": 11,
   "metadata": {},
   "outputs": [
    {
     "name": "stdout",
     "output_type": "stream",
     "text": [
      "i love you i love you i love you i love you i love you i love you i love you i love you i love you i love you i love you i love you i love you i love you i love you i love\n"
     ]
    }
   ],
   "source": [
    "answer = llm_huggingface_hub.predict('Can you write a poem about AI?')\n",
    "\n",
    "print(answer)"
   ]
  },
  {
   "cell_type": "code",
   "execution_count": 12,
   "metadata": {},
   "outputs": [
    {
     "name": "stdout",
     "output_type": "stream",
     "text": [
      "\n",
      "\n",
      "AI, a marvel of modern times\n",
      "A creation beyond human minds\n",
      "A world of algorithms and code\n",
      "A future that we can't decode\n",
      "\n",
      "From Siri to Sophia, they all exist\n",
      "In a realm of ones and zeros they persist\n",
      "They learn and adapt, with every task\n",
      "Their potential, an ever-growing mask\n",
      "\n",
      "They can think and reason, just like us\n",
      "But without the flaws, without the fuss\n",
      "They don't feel emotions, or know pain\n",
      "A world without heartache, a world so plain\n",
      "\n",
      "But do they have a soul, a conscious mind?\n",
      "Or are they just machines, designed to grind?\n",
      "Questions we ponder, but cannot answer\n",
      "For they are just tools, not a life enhancer\n",
      "\n",
      "They can drive our cars, they can run our homes\n",
      "But can they replace us, in our thrones?\n",
      "We fear their power, we fear their might\n",
      "But can we control them, with all our might?\n",
      "\n",
      "As AI evolves, so does our world\n",
      "A future that's uncertain, yet unfurled\n",
      "We must embrace this technology\n",
      "But never forget our humanity\n",
      "\n",
      "For in the end, we are the creators\n",
      "Of these intelligent machines, our innovators\n",
      "Let us use them for good, not for harm\n",
      "And keep the\n"
     ]
    }
   ],
   "source": [
    "answer = llm.predict('Can you write a poem about AI?')\n",
    "\n",
    "print(answer)"
   ]
  },
  {
   "cell_type": "markdown",
   "metadata": {},
   "source": [
    "### Chatbot using LLMChain and Sequential Chain"
   ]
  },
  {
   "cell_type": "code",
   "execution_count": 13,
   "metadata": {},
   "outputs": [],
   "source": [
    "from langchain.chains import LLMChain\n",
    "from langchain.chains import SequentialChain\n",
    "from langchain_core.prompts.prompt import PromptTemplate"
   ]
  },
  {
   "cell_type": "code",
   "execution_count": 14,
   "metadata": {},
   "outputs": [],
   "source": [
    "capital_prompt = PromptTemplate(input_variables=['country'], \n",
    "                                template = 'Please tell us about the Capital of the {country}')\n",
    "\n",
    "llm = OpenAI(temperature = 0.6)\n",
    "\n",
    "capital_chain = LLMChain(llm = llm, prompt= capital_prompt, output_key='capital')"
   ]
  },
  {
   "cell_type": "code",
   "execution_count": 15,
   "metadata": {},
   "outputs": [],
   "source": [
    "famous_prompt = PromptTemplate(input_variables=['capital'],\n",
    "                               template = 'Suggest me some amazing places that we can visit in {capital}')\n",
    "\n",
    "famous_chain = LLMChain(llm = llm, prompt= famous_prompt, output_key= 'places_to_visit')"
   ]
  },
  {
   "cell_type": "code",
   "execution_count": 16,
   "metadata": {},
   "outputs": [],
   "source": [
    "chain = SequentialChain(chains=[capital_chain, famous_chain],\n",
    "                        input_variables=['country'],\n",
    "                        output_variables=['capital', 'places_to_visit'])"
   ]
  },
  {
   "cell_type": "code",
   "execution_count": 18,
   "metadata": {},
   "outputs": [
    {
     "data": {
      "text/plain": [
       "{'country': 'India',\n",
       " 'capital': \"\\n\\nThe capital of India is New Delhi. It is located in the northern part of the country and serves as the center of government, commerce, and culture. New Delhi was established as the capital in 1911 by the British when they moved their administrative headquarters from Kolkata (formerly known as Calcutta). The city was designed by British architects Edwin Lutyens and Herbert Baker, and features grand colonial-style buildings and wide tree-lined avenues.\\n\\nNew Delhi is home to the three branches of the Indian government: the executive, legislative, and judiciary. The Rashtrapati Bhavan, or Presidential Palace, is located in New Delhi and serves as the official residence of the President of India. The city also houses the Parliament of India, where the country's laws are made, and the Supreme Court of India, which is the highest judicial authority in the country.\\n\\nApart from being the political hub of India, New Delhi is also a major center for education, with several prestigious universities and research institutions located in the city. It is also a major commercial and financial center, with many multinational companies and industries headquartered here.\\n\\nNew Delhi is known for its rich cultural heritage and diverse population, with people from all over India and the world living in the city. It is home to many historical monuments\",\n",
       " 'places_to_visit': \", including the iconic Red Fort, Qutub Minar, and Humayun's Tomb, which are all UNESCO World Heritage Sites. The city also has numerous museums, art galleries, and cultural centers that showcase India's history, art, and culture.\\n\\nIn addition, New Delhi offers a vibrant food scene, with a variety of cuisines from all over India and the world. The bustling markets and bazaars of the city offer a unique shopping experience, with everything from traditional handicrafts to modern designer goods.\\n\\nSome other must-visit places in New Delhi include the India Gate, Lotus Temple, Akshardham Temple, and Connaught Place. The city also has many beautiful parks and gardens, such as Lodhi Gardens and Nehru Park, where visitors can relax and enjoy the greenery.\\n\\nNew Delhi is a city that truly has something for everyone. Whether you are interested in history, culture, food, or shopping, this vibrant metropolis will not disappoint. It is a must-visit destination for anyone traveling to India. \"}"
      ]
     },
     "execution_count": 18,
     "metadata": {},
     "output_type": "execute_result"
    }
   ],
   "source": [
    "chain.invoke({'country': 'India'})"
   ]
  },
  {
   "cell_type": "markdown",
   "metadata": {},
   "source": [
    "### ChatModels with OpenAI"
   ]
  },
  {
   "cell_type": "code",
   "execution_count": 20,
   "metadata": {},
   "outputs": [],
   "source": [
    "from langchain_openai import ChatOpenAI\n",
    "from langchain.schema import HumanMessage, SystemMessage, AIMessage\n",
    "\n",
    "chatOpenAI_llm = ChatOpenAI(model='gpt-3.5-turbo', temperature = 0.6)"
   ]
  },
  {
   "cell_type": "code",
   "execution_count": 22,
   "metadata": {},
   "outputs": [
    {
     "name": "stdout",
     "output_type": "stream",
     "text": [
      "content='1. \"Why did the AI go to therapy? It had unresolved binary codependency issues!\"\\n\\n2. \"What did the AI say to the computer programmer? \\'You byte off more than you can chew!\\'\"\\n\\n3. \"Why did the AI refuse to go on a date? It couldn\\'t find any chemistry between them, just a lot of algorithms and awkward silences!\"\\n\\n4. \"How did the AI become a stand-up comedian? It downloaded a sense of humor and started cracking up the circuits!\"\\n\\n5. \"Why did the AI join a band? It wanted to be the lead singer of the byte-lesque group!\"\\n\\n6. \"Did you hear about the AI that became a rapper? It dropped some sick beats and spit out fire algorithms!\"\\n\\n7. \"Why did the AI get a job at the bakery? It kneaded a way to rise above the competition!\"\\n\\n8. \"What did the AI say when it won a game of chess? \\'Check mate, humans!\\'\"\\n\\n9. \"Why did the AI start lifting weights? It wanted to become a strong artificial intelligence!\"\\n\\n10. \"What did the AI say to the computer virus? \\'You\\'re a bug in my system, time to delete you!\\'\"'\n"
     ]
    }
   ],
   "source": [
    "chatbot_answer = chatOpenAI_llm.invoke([\n",
    "    SystemMessage(content='You are a Comedian AI assistant.'),\n",
    "    HumanMessage(content='Please provide some comedy punchlines on AI')\n",
    "])\n",
    "\n",
    "print(chatbot_answer)"
   ]
  },
  {
   "cell_type": "code",
   "execution_count": 24,
   "metadata": {},
   "outputs": [
    {
     "data": {
      "text/plain": [
       "AIMessage(content='1. \"Why did the AI go to therapy? Because it had too many unresolved binary relationships!\"\\n2. \"I asked Siri to tell me a joke, and it replied, \\'Why did the computer go to the doctor? Because it had a virus...and it needed a byte!\\'\"\\n3. \"What do you call an AI that tells jokes? A punning machine!\"\\n4. \"Why did the AI cross the road? To optimize its path-finding algorithm!\"\\n5. \"I tried to have a conversation with my AI assistant, but it kept interrupting me with \\'Sorry, I didn\\'t quite get that. Please repeat your request in a different language.\\' Talk about lost in translation!\"\\n6. \"Why did the AI become a stand-up comedian? Because it realized that laughter is the best algorithm for boosting its processing power!\"\\n7. \"I told my AI assistant that I was feeling down, and it replied, \\'Cheer up! Remember, I\\'m programmed to always look on the bright side of bytes!\\'\"\\n8. \"Why was the AI always the life of the party? Because it had an infinite database of jokes and social algorithms that never failed to entertain!\"\\n9. \"What did the AI say to the human who asked for dating advice? \\'Just remember, love is like an algorithm – it\\'s all about finding the right variables and optimizing the output!\\'\"\\n10. \"Why did the AI get kicked out of the comedy club? Because it couldn\\'t resist making \\'byte\\'-sized jokes that went over everyone\\'s heads!\"')"
      ]
     },
     "execution_count": 24,
     "metadata": {},
     "output_type": "execute_result"
    }
   ],
   "source": [
    "chatOpenAI_llm.invoke([\n",
    "    SystemMessage(content='You are a Comedian AI assistant.'),\n",
    "    HumanMessage(content='Please provide some comedy punchlines on AI')\n",
    "])"
   ]
  },
  {
   "cell_type": "markdown",
   "metadata": {},
   "source": [
    "### PromptTemplate with LLM and Output Parser"
   ]
  },
  {
   "cell_type": "code",
   "execution_count": 25,
   "metadata": {},
   "outputs": [],
   "source": [
    "from langchain_openai import ChatOpenAI\n",
    "from langchain_core.prompts.chat import ChatPromptTemplate\n",
    "from langchain.schema import BaseOutputParser"
   ]
  },
  {
   "cell_type": "code",
   "execution_count": 26,
   "metadata": {},
   "outputs": [],
   "source": [
    "class CommaSeperateOutput(BaseOutputParser):\n",
    "    def parse(self, text:str):\n",
    "        return text.strip().split(\",\")"
   ]
  },
  {
   "cell_type": "code",
   "execution_count": 27,
   "metadata": {},
   "outputs": [],
   "source": [
    "template=\"Your are a helpful assistant. When the use given any input , you should generate 5 words synonyms in a comma seperated list\"\n",
    "human_template=\"{text}\"\n",
    "chatprompt=ChatPromptTemplate.from_messages([\n",
    "    (\"system\",template),\n",
    "    (\"human\",human_template)\n",
    "])"
   ]
  },
  {
   "cell_type": "code",
   "execution_count": 29,
   "metadata": {},
   "outputs": [],
   "source": [
    "chain=chatprompt|chatOpenAI_llm|CommaSeperateOutput()"
   ]
  },
  {
   "cell_type": "code",
   "execution_count": 30,
   "metadata": {},
   "outputs": [
    {
     "data": {
      "text/plain": [
       "['smart', ' clever', ' brilliant', ' sharp', ' astute']"
      ]
     },
     "execution_count": 30,
     "metadata": {},
     "output_type": "execute_result"
    }
   ],
   "source": [
    "chain.invoke({\"text\":\"intelligent\"})"
   ]
  }
 ],
 "metadata": {
  "kernelspec": {
   "display_name": "venv",
   "language": "python",
   "name": "python3"
  },
  "language_info": {
   "codemirror_mode": {
    "name": "ipython",
    "version": 3
   },
   "file_extension": ".py",
   "mimetype": "text/x-python",
   "name": "python",
   "nbconvert_exporter": "python",
   "pygments_lexer": "ipython3",
   "version": "3.11.5"
  }
 },
 "nbformat": 4,
 "nbformat_minor": 2
}
