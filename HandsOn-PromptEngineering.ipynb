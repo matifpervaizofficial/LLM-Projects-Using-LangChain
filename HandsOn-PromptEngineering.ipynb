{
 "cells": [
  {
   "cell_type": "markdown",
   "metadata": {},
   "source": [
    "# Prompt Engineering using LangChain"
   ]
  },
  {
   "cell_type": "markdown",
   "metadata": {},
   "source": [
    "### Open Ended Prompt Engineering"
   ]
  },
  {
   "cell_type": "code",
   "execution_count": 1,
   "metadata": {},
   "outputs": [],
   "source": [
    "import os\n",
    "from dotenv import load_dotenv\n",
    "\n",
    "# Checking if the .env is loaded or not - Returns True\n",
    "load_dotenv()\n",
    "\n",
    "# Seeting the Environment Variables\n",
    "os.environ['OPENAI_API_KEY'] = os.getenv('openai_api_key')"
   ]
  },
  {
   "cell_type": "code",
   "execution_count": 2,
   "metadata": {},
   "outputs": [
    {
     "data": {
      "text/plain": [
       "'I want you to act as a acting financial advisor for people.\\nIn an easy way, explain the basics of Income Tax.'"
      ]
     },
     "execution_count": 2,
     "metadata": {},
     "output_type": "execute_result"
    }
   ],
   "source": [
    "from langchain_core.prompts.prompt import PromptTemplate\n",
    "\n",
    "initial_template = '''I want you to act as a acting financial advisor for people.\n",
    "In an easy way, explain the basics of {financial_concept}.'''\n",
    "\n",
    "prompt_template = PromptTemplate(\n",
    "    input_variables = ['financial_concept'],\n",
    "    template = initial_template\n",
    ")\n",
    "\n",
    "prompt_template.format(financial_concept = 'Income Tax')\n"
   ]
  },
  {
   "cell_type": "code",
   "execution_count": 3,
   "metadata": {},
   "outputs": [],
   "source": [
    "from langchain_openai import OpenAI\n",
    "from langchain.chains import LLMChain\n",
    "\n",
    "llm = OpenAI(temperature=0.7)\n",
    "chain1 = LLMChain(llm= llm, prompt= prompt_template)"
   ]
  },
  {
   "cell_type": "code",
   "execution_count": 4,
   "metadata": {},
   "outputs": [
    {
     "name": "stderr",
     "output_type": "stream",
     "text": [
      "c:\\gitrepository\\Projects-LLM\\LLM-Projects-Using-LangChain\\venv\\Lib\\site-packages\\langchain_core\\_api\\deprecation.py:117: LangChainDeprecationWarning: The function `run` was deprecated in LangChain 0.1.0 and will be removed in 0.2.0. Use invoke instead.\n",
      "  warn_deprecated(\n"
     ]
    },
    {
     "data": {
      "text/plain": [
       "\"\\n\\nSure, I'd be happy to explain the basics of GDP for you. GDP stands for Gross Domestic Product and it is a measure of the total value of all goods and services produced within a country's borders in a specific time period, usually a year. It is often used as an indicator of a country's economic health and growth.\\n\\nThere are a few key components that make up GDP. The first is consumer spending, which includes everything that individuals spend money on, such as food, clothing, and housing. The second is government spending, which is the money that the government uses to fund projects and programs. The third is business investment, which includes things like building new factories or buying new equipment. And finally, there is net exports, which is the value of a country's exports minus the value of its imports.\\n\\nWhen GDP is increasing, it generally means that the economy is growing and there is more economic activity happening. This can lead to more jobs being created, higher wages, and increased consumer spending. On the other hand, if GDP is decreasing, it could indicate a slowing economy or even a recession.\\n\\nIt's important to keep in mind that GDP is just one measure of a country's economic health and should not be looked at in isolation. Other factors, such\""
      ]
     },
     "execution_count": 4,
     "metadata": {},
     "output_type": "execute_result"
    }
   ],
   "source": [
    "chain1.run('GDP')"
   ]
  },
  {
   "cell_type": "markdown",
   "metadata": {},
   "source": [
    "### Language Translation App"
   ]
  },
  {
   "cell_type": "code",
   "execution_count": 5,
   "metadata": {},
   "outputs": [
    {
     "data": {
      "text/plain": [
       "'In an easy way translate the sentence - Hello! How are you ? to Sanskrit'"
      ]
     },
     "execution_count": 5,
     "metadata": {},
     "output_type": "execute_result"
    }
   ],
   "source": [
    "from langchain_core.prompts.prompt import PromptTemplate\n",
    "\n",
    "translation_template = '''In an easy way translate the sentence - {input_sentence} to {target_language}'''\n",
    "\n",
    "language_prompt = PromptTemplate(\n",
    "    input_variables= ['input_sentence', 'target_language'],\n",
    "    template = translation_template\n",
    ")\n",
    "\n",
    "language_prompt.format(input_sentence = 'Hello! How are you ?', target_language='Sanskrit')"
   ]
  },
  {
   "cell_type": "code",
   "execution_count": 6,
   "metadata": {},
   "outputs": [],
   "source": [
    "from langchain.chains import LLMChain\n",
    "from langchain_openai import OpenAI\n",
    "\n",
    "llm = OpenAI(temperature=0.7)\n",
    "\n",
    "chain2 = LLMChain(llm=llm, prompt= language_prompt)"
   ]
  },
  {
   "cell_type": "code",
   "execution_count": 7,
   "metadata": {},
   "outputs": [
    {
     "name": "stderr",
     "output_type": "stream",
     "text": [
      "c:\\gitrepository\\Projects-LLM\\LLM-Projects-Using-LangChain\\venv\\Lib\\site-packages\\langchain_core\\_api\\deprecation.py:117: LangChainDeprecationWarning: The function `__call__` was deprecated in LangChain 0.1.0 and will be removed in 0.2.0. Use invoke instead.\n",
      "  warn_deprecated(\n"
     ]
    },
    {
     "data": {
      "text/plain": [
       "{'input_sentence': 'My name is Khan and I am not a terrorist',\n",
       " 'target_language': 'Sanskrit',\n",
       " 'text': '\\n\\nमम नाम खानः अहम् अभयादिकः न अस्मि । (Mama nāma khānaḥ aham abhayādikaḥ na asmi.)'}"
      ]
     },
     "execution_count": 7,
     "metadata": {},
     "output_type": "execute_result"
    }
   ],
   "source": [
    "chain2({'input_sentence': \"My name is Khan and I am not a terrorist\", 'target_language': 'Sanskrit'})"
   ]
  },
  {
   "cell_type": "code",
   "execution_count": 8,
   "metadata": {},
   "outputs": [
    {
     "data": {
      "text/plain": [
       "{'input_sentence': 'My name is Khan and I am not a terrorist',\n",
       " 'target_language': 'Hindi',\n",
       " 'text': '\\n\\nमेरा नाम खान है और मैं एक आतंकवादी नहीं हूँ। (Mera naam Khan hai aur main ek aatankvaadi nahi hoon.)'}"
      ]
     },
     "execution_count": 8,
     "metadata": {},
     "output_type": "execute_result"
    }
   ],
   "source": [
    "chain2({'input_sentence': \"My name is Khan and I am not a terrorist\", 'target_language': 'Hindi'})"
   ]
  },
  {
   "cell_type": "markdown",
   "metadata": {},
   "source": [
    "### Few Shot Learning Template"
   ]
  },
  {
   "cell_type": "code",
   "execution_count": 10,
   "metadata": {},
   "outputs": [],
   "source": [
    "from langchain_core.prompts.prompt import PromptTemplate\n",
    "from langchain import FewShotPromptTemplate\n",
    "\n",
    "# Let us create few shot examples\n",
    "shot_examples = [\n",
    "    {'word': 'Happy', 'antonym': 'Sad'},\n",
    "    {'word': 'Tall', 'antonym': 'Short'},\n",
    "]\n",
    "\n",
    "few_shot_template = '''Word: {word}\n",
    "antonym: {antonym}\n",
    "'''\n",
    "\n",
    "prompt_example = PromptTemplate(\n",
    "    input_variables=['word', 'antonym'],\n",
    "    template= few_shot_template,\n",
    ")"
   ]
  },
  {
   "cell_type": "code",
   "execution_count": 11,
   "metadata": {},
   "outputs": [],
   "source": [
    "# Create the `FewShotPromptTemplate` object.\n",
    "\n",
    "few_shot_prompt = FewShotPromptTemplate(\n",
    "    # These are the examples we want to insert into the prompt.\n",
    "    examples=shot_examples,\n",
    "    # This is how we want to format the examples when we insert them into the prompt.\n",
    "    example_prompt=prompt_example,\n",
    "\n",
    "    # The prefix is some text that goes before the examples in the prompt.\n",
    "    # Usually, this consists of intructions.\n",
    "    prefix=\"Show the antonym of every input\\n\",\n",
    "    \n",
    "    # The suffix is some text that goes after the examples in the prompt.\n",
    "    # Usually, this is where the user input will go\n",
    "    suffix=\"Word: {input} \\n Antonym: \",\n",
    "\n",
    "    # The input variables are the variables that the overall prompt expects.\n",
    "    input_variables=[\"input\"],\n",
    "    \n",
    "    # The example_separator is the string we will use to join the prefix, examples, and suffix together with.\n",
    "    example_separator=\"\\n\",\n",
    ")"
   ]
  },
  {
   "cell_type": "code",
   "execution_count": 12,
   "metadata": {},
   "outputs": [
    {
     "name": "stdout",
     "output_type": "stream",
     "text": [
      "Show the antonym of every input\n",
      "\n",
      "Word: Happy\n",
      "antonym: Sad\n",
      "\n",
      "Word: Tall\n",
      "antonym: Short\n",
      "\n",
      "Word: big \n",
      " Antonym: \n"
     ]
    }
   ],
   "source": [
    "print(few_shot_prompt.format(input='big'))"
   ]
  },
  {
   "cell_type": "code",
   "execution_count": 13,
   "metadata": {},
   "outputs": [
    {
     "data": {
      "text/plain": [
       "{'input': 'big', 'text': 'Small'}"
      ]
     },
     "execution_count": 13,
     "metadata": {},
     "output_type": "execute_result"
    }
   ],
   "source": [
    "chain3=LLMChain(llm=llm,prompt=few_shot_prompt)\n",
    "chain3({'input':\"big\"})"
   ]
  }
 ],
 "metadata": {
  "kernelspec": {
   "display_name": "PromptEngineering-LangChain",
   "language": "python",
   "name": "python3"
  },
  "language_info": {
   "codemirror_mode": {
    "name": "ipython",
    "version": 3
   },
   "file_extension": ".py",
   "mimetype": "text/x-python",
   "name": "python",
   "nbconvert_exporter": "python",
   "pygments_lexer": "ipython3",
   "version": "3.11.5"
  }
 },
 "nbformat": 4,
 "nbformat_minor": 2
}
